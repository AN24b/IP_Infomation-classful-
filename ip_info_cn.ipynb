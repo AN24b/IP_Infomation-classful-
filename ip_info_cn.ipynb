{
 "cells": [
  {
   "cell_type": "code",
   "execution_count": 3,
   "id": "747db91a",
   "metadata": {},
   "outputs": [],
   "source": [
    "#function to determine the class of an Ip address\n",
    "\n",
    "def findClass(ip):\n",
    "  if(ip[0] >= 0 and ip[0] <= 127):\n",
    "    return \"A\"\n",
    "   \n",
    "  elif(ip[0] >=128 and ip[0] <= 191):\n",
    "    return \"B\"\n",
    "   \n",
    "  elif(ip[0] >= 192 and ip[0] <= 223):\n",
    "    return \"C\"\n",
    "   \n",
    "  elif(ip[0] >= 224 and ip[0] <= 239):\n",
    "    return \"D\"\n",
    "   \n",
    "  else:\n",
    "    return \"E\"\n",
    " "
   ]
  },
  {
   "cell_type": "code",
   "execution_count": 8,
   "id": "a78249e9",
   "metadata": {},
   "outputs": [],
   "source": [
    "#function to separate network and host id from the given ip address\n",
    "\n",
    "def separate(ip, className):\n",
    "   \n",
    "  #for class A network\n",
    "  if(className == \"A\"):\n",
    "    print(\"Network Address is : \", ip[0])\n",
    "    print(\"Host Address is : \", \".\".join(ip[1:4]))\n",
    "     \n",
    "  #for class B network\n",
    "  elif(className == \"B\"):\n",
    "    print(\"Network Address is : \", \".\".join(ip[0:2]))\n",
    "    print(\"Host Address is : \", \".\".join(ip[2:4]))\n",
    "     \n",
    "  #for class C network\n",
    "  elif (className == \"C\"):\n",
    "    print(\"Network Address is : \", \".\".join(ip[0:3]))\n",
    "    print(\"Host Address is : \", ip[3])\n",
    "     \n",
    "  else:\n",
    "    print(\"In this Class, IP address is not divided into Network and Host ID\")\n",
    "   "
   ]
  },
  {
   "cell_type": "code",
   "execution_count": 12,
   "id": "00efda9e",
   "metadata": {},
   "outputs": [],
   "source": [
    "def findDefaultMask(className):\n",
    "    if className == \"A\":\n",
    "        return \"255.0.0.0\"\n",
    "    elif className == \"B\":\n",
    "        return \"255.255.0.0\"\n",
    "    elif className == \"C\":\n",
    "        return \"255.255.255.0\"\n",
    "    else:\n",
    "        return \"Unknown\""
   ]
  },
  {
   "cell_type": "code",
   "execution_count": 13,
   "id": "662f71a0",
   "metadata": {},
   "outputs": [
    {
     "name": "stdout",
     "output_type": "stream",
     "text": [
      "enter ip\t130.45.151.154\n",
      "Given IP address belongs to class :  B\n",
      "Default Subnet Mask for the given class:  255.255.0.0\n",
      "Network Address is :  130.45\n",
      "Host Address is :  151.154\n"
     ]
    }
   ],
   "source": [
    "#driver's code\n",
    "if __name__ == \"__main__\":\n",
    "   \n",
    "   ip = input(\"enter ip\\t\")\n",
    "   ip = ip.split(\".\")\n",
    "   ip = [int(i) for i in ip]\n",
    "   \n",
    "   #getting the network class\n",
    "   networkClass = findClass(ip)\n",
    "   print(\"Given IP address belongs to class : \", networkClass)\n",
    "   \n",
    "   #printing default subnet mask\n",
    "   defaultMask = findDefaultMask(networkClass)\n",
    "   print(\"Default Subnet Mask for the given class: \", defaultMask)\n",
    "   \n",
    "   #printing network and host id\n",
    "   ip = [str(i) for i in ip]\n",
    "   separate(ip, networkClass)"
   ]
  },
  {
   "cell_type": "code",
   "execution_count": 17,
   "id": "d98a7e9c",
   "metadata": {},
   "outputs": [
    {
     "name": "stdout",
     "output_type": "stream",
     "text": [
      "First IP: 130.45.151.1\n",
      "Last IP: 130.45.151.254\n",
      "Network Address: 130.45.151.0\n"
     ]
    }
   ],
   "source": [
    "# To find First IP\n",
    "first_ip = list(ip)\n",
    "first_ip[-1] = '1'\n",
    "print(\"First IP:\", '.'.join(map(str, first_ip)))\n",
    "\n",
    "# To find Last IP\n",
    "last_ip = list(ip)\n",
    "last_ip[-1] = '254'\n",
    "print(\"Last IP:\", '.'.join(map(str, last_ip)))\n",
    "\n",
    "# To find Network Address\n",
    "network_address = list(ip)\n",
    "network_address[-1] = '0'\n",
    "print(\"Network Address:\", '.'.join(map(str, network_address)))"
   ]
  },
  {
   "cell_type": "code",
   "execution_count": 18,
   "id": "2d8edef4",
   "metadata": {},
   "outputs": [],
   "source": [
    "def isReserved(ip):\n",
    "    reserved_ips = [\n",
    "        \"0.0.0.0\",  # \"This Host on this network\"\n",
    "        \"127.0.0.0\",  # \"Loopback\"\n",
    "        \"169.254.0.0\",  # \"Link Local\"\n",
    "        \"192.0.2.0\",  # \"Test Net\"\n",
    "        \"192.88.99.0\",  # \"6to4 Relay Anycast\"\n",
    "        \"198.51.100.0\",  # \"Test Net 2\"\n",
    "        \"203.0.113.0\",  # \"Test Net 3\"\n",
    "    ]\n",
    "    return ip in reserved_ips\n",
    "\n",
    "def isPublic(ip):\n",
    "    first_octet = ip[0]\n",
    "    return (first_octet != 10) and (first_octet != 172 or (ip[1] < 16 or ip[1] > 31)) and (first_octet != 192 or ip[1] != 168)"
   ]
  },
  {
   "cell_type": "code",
   "execution_count": 21,
   "id": "0d9ffbec",
   "metadata": {},
   "outputs": [
    {
     "name": "stdout",
     "output_type": "stream",
     "text": [
      "Enter IP address: 130.45.151.154\n",
      "Given IP address is a Public IP\n"
     ]
    }
   ],
   "source": [
    "if __name__ == \"__main__\":\n",
    "   ip = input(\"Enter IP address: \")\n",
    "   ip = ip.split(\".\")\n",
    "   ip = [int(i) for i in ip]\n",
    "\n",
    "   \"\"\"#getting the network class\n",
    "   networkClass = findClass(ip)\n",
    "   print(\"Given IP address belongs to class : \", networkClass)\n",
    "   \n",
    "   #printing default subnet mask\n",
    "   defaultMask = findDefaultMask(networkClass)\n",
    "   print(\"Default Subnet Mask for the given class: \", defaultMask)\n",
    "   \n",
    "   #printing network and host id\n",
    "   ip = [str(i) for i in ip]\n",
    "   separate(ip, networkClass)\"\"\"\n",
    "\n",
    "   if isReserved(ip):\n",
    "       print(\"Given IP address is a Reserved IP\")\n",
    "   elif isPublic(ip):\n",
    "       print(\"Given IP address is a Public IP\")\n",
    "   else:\n",
    "       print(\"Given IP address is a Private IP\")"
   ]
  },
  {
   "cell_type": "code",
   "execution_count": null,
   "id": "b01731f3",
   "metadata": {},
   "outputs": [],
   "source": []
  }
 ],
 "metadata": {
  "kernelspec": {
   "display_name": "Python 3 (ipykernel)",
   "language": "python",
   "name": "python3"
  },
  "language_info": {
   "codemirror_mode": {
    "name": "ipython",
    "version": 3
   },
   "file_extension": ".py",
   "mimetype": "text/x-python",
   "name": "python",
   "nbconvert_exporter": "python",
   "pygments_lexer": "ipython3",
   "version": "3.11.5"
  }
 },
 "nbformat": 4,
 "nbformat_minor": 5
}
